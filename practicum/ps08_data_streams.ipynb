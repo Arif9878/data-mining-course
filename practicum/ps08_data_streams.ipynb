{
 "cells": [
  {
   "cell_type": "markdown",
   "metadata": {},
   "source": [
    "# Practice Session 09: Data streams\n",
    "\n",
    "In this session we will take a large corpus of queries and compute statistics on them using methods for data stream sampling."
   ]
  },
  {
   "cell_type": "markdown",
   "metadata": {},
   "source": [
    "# 0. Preliminaries\n",
    "\n",
    "The dataset we will use contains the most 1,000 prolific users from the AOL Query Log (2006), a dataset released for research, and later retracted [[download link](https://github.com/wasiahmad/aol_query_log_analysis)]. The idea of this practice is to obtain some statistics on this file **without** storing parts of the file in main memory."
   ]
  },
  {
   "cell_type": "markdown",
   "metadata": {},
   "source": [
    "## 0.1. Required imports"
   ]
  },
  {
   "cell_type": "code",
   "execution_count": 1,
   "metadata": {},
   "outputs": [],
   "source": [
    "import io\n",
    "import csv\n",
    "import math\n",
    "import random\n",
    "import statistics"
   ]
  },
  {
   "cell_type": "markdown",
   "metadata": {},
   "source": [
    "## 0.2. How to iterate through this file"
   ]
  },
  {
   "cell_type": "code",
   "execution_count": 2,
   "metadata": {},
   "outputs": [
    {
     "name": "stdout",
     "output_type": "stream",
     "text": [
      "On 2006-03-01 05:27:42 user u6754960 issued query princess birthday party\n",
      "On 2006-03-01 12:09:42 user u1924115 issued query wood assassinated\n",
      "On 2006-03-01 16:09:16 user u4630988 issued query pygmy goat for sale maryland virginia\n",
      "On 2006-03-01 18:21:09 user u9427813 issued query mainecare\n",
      "On 2006-03-02 02:59:24 user u4005216 issued query poster prudence and the pill\n",
      "On 2006-03-02 15:49:13 user u2648027 issued query unique rough paper developing for digital portraits\n",
      "On 2006-03-02 21:10:30 user u5402023 issued query american society of appraisers\n",
      "On 2006-03-02 21:38:23 user u3747913 issued query wwe toys 2006\n",
      "On 2006-03-03 13:45:24 user u8920039 issued query xpeeps\n",
      "On 2006-03-04 15:30:16 user u1779655 issued query ski market\n",
      "On 2006-03-05 08:39:12 user u3955016 issued query simmons realty oregon\n",
      "On 2006-03-05 09:07:54 user u9952934 issued query does blue select cover tubal reversal\n",
      "On 2006-03-05 16:07:09 user u8193332 issued query ugg\n",
      "On 2006-03-05 19:09:19 user u7536332 issued query cecily tynan and her husband greg watson are parents\n",
      "On 2006-03-05 21:40:15 user u4631272 issued query map of jacksonville florida\n",
      "On 2006-03-05 21:54:23 user u4778170 issued query tucows\n",
      "On 2006-03-06 16:40:51 user u2641580 issued query vacuum excavation\n",
      "On 2006-03-06 18:52:18 user u9316719 issued query 7th down home family reunion celebration richmond\n",
      "On 2006-03-06 19:14:19 user u8412563 issued query love bug\n",
      "On 2006-03-07 09:21:56 user u6318003 issued query university of pennsylvania\n",
      "On 2006-03-07 16:46:31 user u6767240 issued query odmp\n",
      "On 2006-03-08 13:45:46 user u3693627 issued query the jewish community in cochin\n",
      "On 2006-03-08 17:48:26 user u8927247 issued query container store free shipping\n",
      "On 2006-03-08 19:09:11 user u4544129 issued query britney spears 100 naked\n",
      "On 2006-03-08 22:42:13 user u7031783 issued query big muscle bears\n",
      "On 2006-03-09 02:49:40 user u4553564 issued query hydron technologies inc\n",
      "On 2006-03-09 14:27:59 user u2711817 issued query black bmw z3 with tan top\n",
      "On 2006-03-09 16:33:31 user u3559305 issued query best blogs gardening\n",
      "On 2006-03-09 22:24:28 user u8958467 issued query christening gifts\n",
      "On 2006-03-10 00:39:31 user u9893952 issued query freeones\n",
      "On 2006-03-10 12:39:33 user u6318003 issued query inside lacrosse\n",
      "On 2006-03-10 23:17:02 user u1404578 issued query classic car shows in alabama\n",
      "On 2006-03-11 09:59:13 user u8958467 issued query dana reeve funeral\n",
      "On 2006-03-11 22:24:05 user u6534360 issued query russel crowe music\n",
      "On 2006-03-12 02:52:30 user u7450037 issued query james b castle hs\n",
      "On 2006-03-12 06:52:11 user u2007701 issued query scotish names\n",
      "On 2006-03-12 08:52:15 user u620485 issued query tai chi retreats\n",
      "On 2006-03-12 09:14:27 user u8349931 issued query craigslist\n",
      "On 2006-03-13 14:17:36 user u2522127 issued query st. patrick's day new york mass\n",
      "On 2006-03-13 15:39:37 user u2773875 issued query museum label\n",
      "On 2006-03-14 01:17:02 user u2807723 issued query zylom\n",
      "On 2006-03-14 08:53:09 user u418006 issued query emory university\n",
      "On 2006-03-14 13:10:04 user u3559305 issued query mozilla\n",
      "On 2006-03-15 19:35:31 user u1389094 issued query american idol\n",
      "On 2006-03-15 21:41:45 user u2641580 issued query garbage collector truck lifting arms\n",
      "On 2006-03-16 07:15:46 user u8855846 issued query mlive\n",
      "On 2006-03-16 14:27:47 user u1363514 issued query psu graduation 2006\n",
      "On 2006-03-16 17:43:43 user u459555 issued query yahoo\n",
      "On 2006-03-16 19:32:28 user u7072601 issued query el pistolero de la quebuena\n",
      "On 2006-03-17 00:22:33 user u9621069 issued query yahoo\n",
      "On 2006-03-17 02:14:16 user u1035584 issued query best twistys video\n",
      "On 2006-03-17 08:59:12 user u7061913 issued query crossdressing forum\n",
      "On 2006-03-17 09:54:08 user u8974617 issued query horoscopes\n",
      "On 2006-03-17 12:13:41 user u1510942 issued query viking 500 sewing machine parts\n",
      "On 2006-03-17 18:26:13 user u3112267 issued query expensive game room furniture poker tables\n",
      "On 2006-03-17 23:48:14 user u4582865 issued query shopbop\n",
      "On 2006-03-17 23:59:03 user u3668306 issued query illinois lotto\n",
      "On 2006-03-18 11:24:29 user u3066586 issued query did jesus go to hell\n",
      "On 2006-03-18 16:00:11 user u4308566 issued query hunters point homicides\n",
      "On 2006-03-18 16:04:02 user u5110134 issued query old virginia songs 1830\n",
      "On 2006-03-18 20:40:02 user u781018 issued query children's rocking chairs\n",
      "On 2006-03-18 22:12:29 user u8958467 issued query gas tank restoration\n",
      "On 2006-03-18 23:08:16 user u7148725 issued query migente\n",
      "On 2006-03-19 12:01:29 user u4350443 issued query if you commit a mortal sin what happens\n",
      "On 2006-03-19 16:40:25 user u7776820 issued query carradine north shore vacation rental\n",
      "On 2006-03-19 19:10:58 user u781018 issued query biography organizer\n",
      "On 2006-03-20 12:31:51 user u1177792 issued query computer reviews\n",
      "On 2006-03-20 14:01:27 user u3500067 issued query sherman brothers\n",
      "On 2006-03-20 14:45:48 user u4929929 issued query keen\n",
      "On 2006-03-20 17:37:55 user u4205739 issued query patons evita yarn patterns\n",
      "On 2006-03-20 20:51:24 user u228129 issued query mountain beaver\n",
      "On 2006-03-21 00:18:08 user u4778170 issued query rollform technology\n",
      "On 2006-03-21 00:56:00 user u8963132 issued query currency exchange rates\n",
      "On 2006-03-21 09:38:28 user u2337572 issued query interior paint designs\n",
      "On 2006-03-21 10:01:42 user u916041 issued query hot101\n",
      "On 2006-03-21 11:30:44 user u8201636 issued query large group tents waterproof\n",
      "On 2006-03-21 11:33:06 user u5312798 issued query thermadrol\n",
      "On 2006-03-21 12:24:30 user u2135967 issued query can a sam assessment and training used cd be used for class\n",
      "On 2006-03-21 21:48:17 user u4279317 issued query galleria l'impronta\n",
      "On 2006-03-22 07:50:43 user u3808761 issued query shoes\n",
      "On 2006-03-22 08:00:18 user u6104980 issued query kroger\n",
      "On 2006-03-22 13:24:23 user u7371154 issued query rondout new york\n",
      "On 2006-03-22 19:34:25 user u12291 issued query yahoo\n",
      "On 2006-03-23 14:33:51 user u9197078 issued query busty latina babes\n",
      "On 2006-03-23 19:02:44 user u1200489 issued query ebay\n",
      "On 2006-03-23 21:37:17 user u5420593 issued query canon l lens\n",
      "On 2006-03-23 23:02:49 user u9155682 issued query jeronima de la\n",
      "On 2006-03-24 09:40:07 user u5022263 issued query village of saugerties\n",
      "On 2006-03-24 10:02:42 user u8399088 issued query 2001 suburban 8.1 engine stalling\n",
      "On 2006-03-24 11:10:11 user u4066550 issued query david's bridal\n",
      "On 2006-03-24 15:15:12 user u5254221 issued query los angeles county public obituaries\n",
      "On 2006-03-24 16:16:28 user u4955778 issued query google\n",
      "On 2006-03-24 17:26:25 user u1263183 issued query spanish priest cross of rose\n",
      "On 2006-03-24 17:35:47 user u1142189 issued query angel's slut wife\n",
      "On 2006-03-25 12:18:36 user u3834531 issued query friendship postcards\n",
      "On 2006-03-25 12:26:45 user u9969299 issued query 171 east 84th street\n",
      "On 2006-03-25 19:17:16 user u5954802 issued query nba\n",
      "On 2006-03-25 21:22:56 user u4301195 issued query timeline of the bible\n",
      "On 2006-03-25 23:17:06 user u9241694 issued query hanliu korean movies\n",
      "On 2006-03-27 09:08:59 user u2360270 issued query bath salts\n",
      "On 2006-03-27 13:20:18 user u4891733 issued query tackle bonefish\n",
      "On 2006-03-27 16:19:14 user u6318003 issued query stanford university\n",
      "On 2006-03-27 20:12:11 user u1692770 issued query china body parts\n",
      "On 2006-03-27 21:52:46 user u8308026 issued query kim cattrall is british\n",
      "On 2006-03-27 22:55:52 user u1423240 issued query lv caboose 95070\n",
      "On 2006-03-28 10:45:38 user u3578719 issued query living will form\n",
      "On 2006-03-28 22:44:16 user u4369363 issued query garcia aviation\n",
      "On 2006-03-29 22:05:39 user u1740823 issued query britax\n",
      "On 2006-03-30 18:22:50 user u3448694 issued query rebel-v8.co.uk\n",
      "On 2006-03-30 21:15:30 user u8666490 issued query natural hair salon baltimore md\n",
      "On 2006-03-30 21:28:07 user u4158087 issued query silverdaddies\n",
      "On 2006-03-31 17:37:06 user u7609251 issued query hyder genealogy henderson county n.c.\n",
      "On 2006-03-31 18:33:48 user u5970664 issued query friends of josh groban\n",
      "On 2006-03-31 19:39:11 user u281369 issued query indiana changes to daylight savings time\n",
      "On 2006-03-31 20:14:23 user u12291 issued query myspace.com\n",
      "On 2006-04-01 18:35:49 user u4275780 issued query art lessons using the golden mean\n",
      "On 2006-04-01 20:50:35 user u8780787 issued query shop nbc watches\n",
      "On 2006-04-02 00:26:27 user u4560868 issued query porsche cayenne\n",
      "On 2006-04-02 13:51:26 user u6847668 issued query myspace\n",
      "On 2006-04-02 14:19:00 user u6217206 issued query google\n",
      "On 2006-04-02 15:54:35 user u1924842 issued query morphine methadone oxycodone available on the 13th\n",
      "On 2006-04-02 20:32:23 user u1618107 issued query ebay\n",
      "On 2006-04-03 00:54:15 user u6810062 issued query houston chronicle\n",
      "On 2006-04-03 01:17:48 user u2815839 issued query 3 wheeled teardrop cars\n",
      "On 2006-04-03 08:28:19 user u3263456 issued query keyshia cole nude\n",
      "On 2006-04-03 10:45:58 user u2080066 issued query triumph motorcycle\n",
      "On 2006-04-03 11:23:31 user u4471416 issued query craigslists new york\n",
      "On 2006-04-04 12:33:22 user u1553839 issued query new york state outdoor writers association\n",
      "On 2006-04-04 16:25:09 user u1363514 issued query sufix superior fishing line\n",
      "On 2006-04-04 18:24:09 user u7535269 issued query how to screenplay write\n",
      "On 2006-04-04 19:16:48 user u3168868 issued query pottsgrove soccer\n",
      "On 2006-04-05 00:04:03 user u397564 issued query breathe right strips\n",
      "On 2006-04-05 09:07:11 user u3808761 issued query ebay\n",
      "On 2006-04-05 09:54:02 user u2729450 issued query girls bedding\n",
      "On 2006-04-05 21:38:27 user u4275780 issued query doomoo bag\n",
      "On 2006-04-05 22:02:20 user u3173764 issued query tom delay is quitting race\n",
      "On 2006-04-06 02:51:18 user u5140085 issued query orange county housing market\n",
      "On 2006-04-06 14:38:02 user u572682 issued query terra\n",
      "On 2006-04-07 10:00:41 user u3235893 issued query riverbelle casino\n",
      "On 2006-04-07 14:42:48 user u8671924 issued query holiday inn boston\n",
      "On 2006-04-07 15:11:18 user u5235706 issued query elephant ear plants\n",
      "On 2006-04-08 12:02:42 user u8365653 issued query what leading regulatory issues must be addressed when planning for hospital information technology\n",
      "On 2006-04-08 13:35:42 user u685575 issued query google\n",
      "On 2006-04-09 07:27:37 user u8946602 issued query jill pictures\n",
      "On 2006-04-09 16:10:05 user u4867852 issued query walmart store\n",
      "On 2006-04-09 20:33:15 user u459494 issued query concrete front porches\n",
      "On 2006-04-10 03:57:41 user u8151662 issued query ez-go front brakes\n",
      "On 2006-04-10 08:10:43 user u8643052 issued query wisconsin association for talented and gifted\n",
      "On 2006-04-10 09:17:54 user u6050245 issued query bank of america\n",
      "On 2006-04-11 07:07:32 user u744565 issued query nola.com\n",
      "On 2006-04-11 10:31:29 user u5625618 issued query begonia\n",
      "On 2006-04-11 20:27:20 user u8365653 issued query what are the knowledge based systems for hospitals\n",
      "On 2006-04-11 21:11:42 user u4852360 issued query kansas high school track honor roll 2006\n",
      "On 2006-04-11 21:54:47 user u7904468 issued query nypd blue the whole story behind the scenes for all 12 years.\n",
      "On 2006-04-11 22:35:24 user u2677382 issued query trip advisor\n",
      "On 2006-04-12 23:11:22 user u6485820 issued query vitiligo\n",
      "On 2006-04-14 19:42:52 user u5181804 issued query swan crafts\n",
      "On 2006-04-15 20:16:47 user u1860905 issued query boxing on espn\n",
      "On 2006-04-15 21:46:08 user u6353582 issued query knoebels\n",
      "On 2006-04-15 22:00:44 user u12291 issued query 1925 chicago alderman\n",
      "On 2006-04-16 01:56:21 user u3342832 issued query true mystery of the atlantic\n",
      "On 2006-04-16 15:39:05 user u2304102 issued query google\n",
      "On 2006-04-16 20:00:08 user u8349931 issued query craigslist\n",
      "On 2006-04-17 16:52:09 user u667536 issued query lawrence mass dmv\n",
      "On 2006-04-17 22:35:04 user u2116521 issued query free spyware programs\n",
      "On 2006-04-18 11:40:25 user u9612559 issued query north elementary school in bixby ok\n",
      "On 2006-04-18 14:11:35 user u4654760 issued query want advertiser\n",
      "On 2006-04-18 20:00:42 user u4187391 issued query google\n",
      "On 2006-04-18 21:19:58 user u5109444 issued query craigslist washington dc\n",
      "On 2006-04-19 19:21:32 user u6427949 issued query frogger the great quest walkthrough\n",
      "On 2006-04-19 21:14:40 user u578009 issued query nlada\n",
      "On 2006-04-19 23:17:12 user u1953425 issued query airasia stock quote\n",
      "On 2006-04-19 23:38:39 user u6795300 issued query drudge\n"
     ]
    },
    {
     "name": "stdout",
     "output_type": "stream",
     "text": [
      "On 2006-04-20 10:46:43 user u8221292 issued query infotrac\n",
      "On 2006-04-20 17:32:01 user u4483136 issued query medical malpractice cholecystectomy\n",
      "On 2006-04-21 11:18:54 user u173056 issued query colorado springs north koa\n",
      "On 2006-04-21 19:18:11 user u4960410 issued query back pain baltimore\n",
      "On 2006-04-21 19:27:21 user u7341676 issued query acts 17-11\n",
      "On 2006-04-22 09:48:10 user u1272774 issued query refractory period of an ecg\n",
      "On 2006-04-22 19:16:36 user u5271275 issued query panic at the disco\n",
      "On 2006-04-22 21:17:24 user u6235299 issued query garage door bottom seals\n",
      "On 2006-04-22 21:36:31 user u3559305 issued query annie's annuals\n",
      "On 2006-04-22 21:57:55 user u9118191 issued query uscis the document we made based on the approval or registration of this case was mailed\n",
      "On 2006-04-23 04:20:23 user u7050479 issued query brides from hell\n",
      "On 2006-04-23 13:56:30 user u9211097 issued query master pools\n",
      "On 2006-04-23 15:32:42 user u585444 issued query new york city craigslist\n",
      "On 2006-04-23 18:11:38 user u4004394 issued query myspace\n",
      "On 2006-04-23 18:39:23 user u7497826 issued query walt disney world\n",
      "On 2006-04-24 00:47:23 user u4576573 issued query dartmouth hitchcock medical center\n",
      "On 2006-04-24 10:41:12 user u7832138 issued query teen galleries\n",
      "On 2006-04-25 13:16:32 user u5280876 issued query sermon on psalm 139\n",
      "On 2006-04-25 17:56:54 user u667536 issued query ebay\n",
      "On 2006-04-25 19:21:46 user u9952052 issued query south seas in south beach miami\n",
      "On 2006-04-25 23:40:05 user u9566506 issued query la gazzeta dello sport\n",
      "On 2006-04-26 08:13:26 user u6923190 issued query stuttering stroke\n",
      "On 2006-04-26 12:48:16 user u8408524 issued query capital sheetmetal\n",
      "On 2006-04-26 22:11:58 user u6092183 issued query lupus anticoagulant seizures\n",
      "On 2006-04-26 22:59:34 user u3332758 issued query put down one liners\n",
      "On 2006-04-27 10:33:24 user u5550360 issued query wheeling news register\n",
      "On 2006-04-27 18:50:37 user u3668306 issued query asu\n",
      "On 2006-04-28 12:32:50 user u6095397 issued query yahoo mail\n",
      "On 2006-04-29 10:46:53 user u8974617 issued query horoscopes\n",
      "On 2006-04-29 10:57:40 user u326730 issued query fishing in wi. improving\n",
      "On 2006-04-30 05:38:18 user u8391934 issued query archdiocese of los angeles\n",
      "On 2006-04-30 17:04:49 user u5609121 issued query michelangelo new york\n",
      "On 2006-04-30 17:52:47 user u6086561 issued query history of quadratic equation\n",
      "On 2006-04-30 17:57:22 user u9368255 issued query fafsa\n",
      "On 2006-04-30 20:37:52 user u7311482 issued query rico petrocelli statistics\n",
      "On 2006-05-01 13:07:30 user u7670120 issued query wlky 32\n",
      "On 2006-05-01 18:37:10 user u4719566 issued query best western\n",
      "On 2006-05-02 07:56:17 user u8855846 issued query the detroit news\n",
      "On 2006-05-02 10:33:14 user u620485 issued query flowers of bean plants\n",
      "On 2006-05-02 11:01:30 user u665643 issued query picture frames\n",
      "On 2006-05-02 13:06:54 user u7713214 issued query bow sights\n",
      "On 2006-05-02 19:23:22 user u4959954 issued query offshore sailing school\n",
      "On 2006-05-02 20:19:36 user u6086561 issued query myspace\n",
      "On 2006-05-02 21:47:01 user u1779655 issued query connecticut assistant special education teacher 2006-2007\n",
      "On 2006-05-03 07:49:02 user u620485 issued query design yard for a zen feel\n",
      "On 2006-05-03 09:47:59 user u585444 issued query new york city craigslist\n",
      "On 2006-05-03 14:37:20 user u7352126 issued query preschool ocean life patterns\n",
      "On 2006-05-03 14:52:13 user u3628029 issued query disneyana rare items\n",
      "On 2006-05-03 16:43:29 user u3271238 issued query st. augustine school for the deaf\n",
      "On 2006-05-03 17:17:31 user u5708436 issued query msn\n",
      "On 2006-05-04 09:44:54 user u4471416 issued query craigslists new york\n",
      "On 2006-05-04 13:10:28 user u6534360 issued query free chat\n",
      "On 2006-05-04 20:04:14 user u9197078 issued query ecusa elca full communion\n",
      "On 2006-05-04 20:44:44 user u6767240 issued query kkco\n",
      "On 2006-05-04 23:17:33 user u1195811 issued query nba\n",
      "On 2006-05-05 00:04:07 user u4960410 issued query native american clip art\n",
      "On 2006-05-05 11:08:02 user u8583405 issued query bathandbodyworks coupons\n",
      "On 2006-05-05 21:55:44 user u9945198 issued query yahoo\n",
      "On 2006-05-06 07:01:20 user u4979556 issued query astro.com\n",
      "On 2006-05-06 12:42:25 user u1482639 issued query craig lists\n",
      "On 2006-05-06 22:15:35 user u9969299 issued query 400 east 56th street\n",
      "On 2006-05-07 10:17:50 user u6105890 issued query mature kingdom\n",
      "On 2006-05-07 11:51:28 user u6935711 issued query software to convert a dvd\n",
      "On 2006-05-08 08:06:44 user u8151662 issued query ge motors 12v to 72v\n",
      "On 2006-05-08 12:19:03 user u6834527 issued query raccoon graphics\n",
      "On 2006-05-08 14:42:17 user u459494 issued query ebay\n",
      "On 2006-05-08 16:19:22 user u9960029 issued query bmv\n",
      "On 2006-05-08 17:37:48 user u4073397 issued query l massager\n",
      "On 2006-05-08 22:19:30 user u7388898 issued query guns and roses songs\n",
      "On 2006-05-08 22:20:49 user u2434270 issued query channel 955\n",
      "On 2006-05-09 00:55:13 user u7097094 issued query automate a powerpoint slideshow via ms access\n",
      "On 2006-05-09 09:44:30 user u4468502 issued query campeche photos mexico\n",
      "On 2006-05-09 15:12:21 user u8412563 issued query 1970 ge fm am flip clock radio\n",
      "On 2006-05-09 19:52:14 user u12291 issued query yahoo\n",
      "On 2006-05-10 00:52:50 user u5398654 issued query what kind of doctor do you go to for fibromyalgia\n",
      "On 2006-05-10 07:02:31 user u7381242 issued query tiered three light art glass mini pendant\n",
      "On 2006-05-10 09:47:20 user u6001085 issued query bayern muenchen\n",
      "On 2006-05-10 15:18:04 user u1298078 issued query big river real estate\n",
      "On 2006-05-10 21:11:40 user u8707976 issued query calories of food\n",
      "On 2006-05-11 00:11:39 user u8031584 issued query breckenridge condominiums\n",
      "On 2006-05-11 10:33:28 user u4631272 issued query cboe quotes\n",
      "On 2006-05-11 15:40:08 user u1415185 issued query biorhythm charts - denver area\n",
      "On 2006-05-11 18:17:34 user u3148693 issued query brylane home coupons\n",
      "On 2006-05-11 18:34:36 user u6639240 issued query trigger point therapy clair davies\n",
      "On 2006-05-11 20:07:06 user u6952372 issued query blondes\n",
      "On 2006-05-11 21:34:49 user u6491018 issued query chemical technology program\n",
      "On 2006-05-12 12:31:52 user u3529237 issued query penn live\n",
      "On 2006-05-12 23:50:33 user u3297854 issued query pregnancy\n",
      "On 2006-05-13 09:22:59 user u5690696 issued query hypnotized people video\n",
      "On 2006-05-13 15:21:49 user u9010014 issued query math\n",
      "On 2006-05-13 19:28:28 user u1510942 issued query servite high school buena park\n",
      "On 2006-05-13 20:40:55 user u9427813 issued query worcester telegram and gazette\n",
      "On 2006-05-14 02:44:21 user u8671924 issued query usa mega\n",
      "On 2006-05-14 05:03:18 user u4268220 issued query how to write employee appraisals\n",
      "On 2006-05-14 14:56:37 user u2753727 issued query free pron\n",
      "On 2006-05-14 17:57:20 user u2106617 issued query myspace backgrounds\n",
      "On 2006-05-14 19:18:13 user u578009 issued query jobs in higher education\n",
      "On 2006-05-14 20:57:41 user u1508955 issued query newspaper articles 1967 images\n",
      "On 2006-05-14 21:08:14 user u4279317 issued query song of the cuban bullfinch\n",
      "On 2006-05-15 12:15:28 user u8664189 issued query donate workout equipment\n",
      "On 2006-05-15 12:20:55 user u2060732 issued query karting t shirts\n",
      "On 2006-05-15 18:10:41 user u2841976 issued query well drills for rent\n",
      "On 2006-05-15 20:39:09 user u2357546 issued query evanescence lyrics\n",
      "On 2006-05-18 02:58:00 user u5989842 issued query victorian porcelain lamps for sale\n",
      "On 2006-05-18 17:58:00 user u4867852 issued query hanna barbera company\n",
      "On 2006-05-18 20:18:58 user u744565 issued query wwl tv 4 new orleans\n",
      "On 2006-05-19 02:22:49 user u418006 issued query region iv\n",
      "On 2006-05-19 14:12:05 user u4805112 issued query free games\n",
      "On 2006-05-19 19:38:02 user u5445048 issued query macworld\n",
      "On 2006-05-19 21:33:47 user u5412035 issued query beaded cuff instructions\n",
      "On 2006-05-20 08:43:25 user u1177792 issued query trinity college ice hockey\n",
      "On 2006-05-21 00:34:58 user u272802 issued query myspace\n",
      "On 2006-05-21 10:58:01 user u901452 issued query atlanta braves\n",
      "On 2006-05-21 17:31:36 user u5754491 issued query bill o reilly\n",
      "On 2006-05-22 10:01:13 user u8125092 issued query boston reefers\n",
      "On 2006-05-22 11:49:55 user u9010014 issued query headstones\n",
      "On 2006-05-22 19:16:23 user u1985214 issued query trailer for the ringer\n",
      "On 2006-05-22 21:31:39 user u8419348 issued query canadian all inclusive vacations\n",
      "On 2006-05-22 23:41:54 user u6623521 issued query fishing swimming spoon\n",
      "On 2006-05-23 07:39:09 user u3808761 issued query rules on changing your last name\n",
      "On 2006-05-23 09:16:49 user u5182853 issued query magritte\n",
      "On 2006-05-23 11:18:20 user u912878 issued query lexus recall notices for rx330\n",
      "On 2006-05-23 11:29:53 user u2917041 issued query national ad council\n",
      "On 2006-05-23 18:25:07 user u9314019 issued query msn\n",
      "On 2006-05-23 19:55:01 user u4114990 issued query don't stop believin lyrics\n",
      "On 2006-05-24 16:38:42 user u2060732 issued query what is a 1099 form\n",
      "On 2006-05-24 21:47:59 user u1055584 issued query whois\n",
      "On 2006-05-25 00:39:55 user u272802 issued query myspace\n",
      "On 2006-05-25 02:15:57 user u7781272 issued query ebay\n",
      "On 2006-05-25 06:14:44 user u7045826 issued query petoskey news review\n",
      "On 2006-05-25 14:26:55 user u360507 issued query florida culinary institute\n",
      "On 2006-05-25 20:13:12 user u3708870 issued query new jersey craig's list\n",
      "On 2006-05-26 06:18:26 user u8707976 issued query chief kowee of alaska\n",
      "On 2006-05-26 09:03:06 user u1490691 issued query guro statuaire\n",
      "On 2006-05-26 09:41:09 user u4555602 issued query dictionary\n",
      "On 2006-05-26 19:04:31 user u9262028 issued query radio seed implants\n",
      "On 2006-05-27 00:57:14 user u9973251 issued query baycouples\n",
      "On 2006-05-27 01:29:16 user u5398654 issued query medicines for chronic neck and back pain\n",
      "On 2006-05-27 14:34:18 user u667536 issued query ebay\n",
      "On 2006-05-27 18:17:42 user u3632384 issued query rod iron bed\n",
      "On 2006-05-28 01:12:45 user u8822098 issued query thermostats\n",
      "On 2006-05-28 13:06:51 user u8218180 issued query oriental trading company\n",
      "On 2006-05-28 13:37:57 user u9368255 issued query middle tennessee state university\n",
      "On 2006-05-29 00:19:29 user u6932853 issued query peterpopoff.com\n",
      "On 2006-05-29 01:03:16 user u4182329 issued query epson c82 driver\n",
      "On 2006-05-29 07:56:43 user u2637226 issued query russian coins\n",
      "On 2006-05-29 20:42:41 user u3271238 issued query metropolitan museum of art\n",
      "On 2006-05-29 21:07:39 user u2135967 issued query arthrotec weight gain\n",
      "On 2006-05-30 09:30:54 user u2815839 issued query ebay\n",
      "On 2006-05-30 10:08:35 user u7670120 issued query wlky 32\n",
      "On 2006-05-30 10:36:48 user u9317486 issued query coyle hospitality\n",
      "On 2006-05-30 15:57:04 user u7140686 issued query walnut french armoire\n",
      "On 2006-05-31 11:12:47 user u6419082 issued query lake county teaching vacancies\n",
      "On 2006-05-31 12:57:42 user u4929929 issued query didtheyreadit.com\n"
     ]
    }
   ],
   "source": [
    "INPUT_FILE = \"user_queries.csv\"\n",
    "with io.open(INPUT_FILE) as file:\n",
    "    reader = csv.reader(file, delimiter=\"\\t\")\n",
    "    for timestamp, userid, query in reader:\n",
    "        # Prints 0.1% of lines\n",
    "        if random.random() < 0.001:\n",
    "            print(\"On %s user %s issued query %s\" % (timestamp, userid, query)) "
   ]
  },
  {
   "cell_type": "markdown",
   "metadata": {},
   "source": [
    "# 1. Determine approximately the top-5 queries\n",
    "\n",
    "In this query log the most frequent queries are:\n",
    "\n",
    "* \"google\" (1.6% of the queries)\n",
    "* \"ebay\" (1.5%)\n",
    "* \"yahoo\" (1.3%)\n",
    "* \"myspace\" (1.0%)\n",
    "* \"craigslist\" (0.5%)\n",
    "\n",
    "Instead of loading the entire query log in main memory, we will use reservoir sampling to determine approximately the top-5 queries."
   ]
  },
  {
   "cell_type": "markdown",
   "metadata": {},
   "source": [
    "[**CODE**] Implement a function `add_reservoir(reservoir, item, max_size)` that adds an item to the reservoir, maintaining its size. If the reservoir is already of size *max_size*, a random item is selected and evicted *before* adding the item. It is important to evict an old item *before* adding the new item."
   ]
  },
  {
   "cell_type": "code",
   "execution_count": 3,
   "metadata": {},
   "outputs": [],
   "source": [
    "def add_to_reservoir(reservoir, item, max_reservoir_size):\n",
    "    # YOUR CODE HERE\n",
    "    assert(len(reservoir) <= max_reservoir_size)"
   ]
  },
  {
   "cell_type": "markdown",
   "metadata": {},
   "source": [
    "[**CODE**] Iterate through the file using the reservoir sampling method seen in class."
   ]
  },
  {
   "cell_type": "code",
   "execution_count": 4,
   "metadata": {},
   "outputs": [
    {
     "name": "stdout",
     "output_type": "stream",
     "text": [
      "Number of queries seen    : 318023\n",
      "Number of queries sampled : 500\n"
     ]
    }
   ],
   "source": [
    "reservoir_size = 500\n",
    "reservoir = []\n",
    "\n",
    "with io.open(INPUT_FILE) as file:\n",
    "    reader = csv.reader(file, delimiter=\"\\t\")\n",
    "    i = 0\n",
    "    for timestamp, userid, query in reader:\n",
    "        i += 1\n",
    "        # YOUR CODE HERE\n",
    "        \n",
    "print(\"Number of queries seen    : %d\" % i)\n",
    "print(\"Number of queries sampled : %d\" % len(reservoir) )"
   ]
  },
  {
   "cell_type": "markdown",
   "metadata": {},
   "source": [
    "[**REPORT**] List the top-5 queries found by looking at frequencies in the reservoir. Repeat this process for various sizes of the reservoir: 10, 20, 50, 100, 200, 500, 1000, 2000, 5000. For each size:\n",
    "\n",
    "* List the top-5 queries and their estimated frequency. If you see a query C times in the reservoir, you can estimate the query appears *C x N / reservoir_size* times in the actual sample. Dividing this quantity by *N* and multiplying by 100 will give you the percentage.\n",
    "\n",
    "[**REPORT**] Indicate what is the minimum reservoir size you had to use to at least have an overlap of 3/5 between the queries found by the approximate method and the actual top-5."
   ]
  },
  {
   "cell_type": "code",
   "execution_count": 5,
   "metadata": {},
   "outputs": [
    {
     "name": "stdout",
     "output_type": "stream",
     "text": [
      "ebay 2.0%\n",
      "myspace 1.8%\n",
      "google 1.6%\n",
      "msn 0.8%\n",
      "yahoo mail 0.6%\n"
     ]
    }
   ],
   "source": [
    "freq = {}\n",
    "for item in reservoir:\n",
    "    freq[item] = reservoir.count(item)\n",
    "\n",
    "by_freq = sorted([(float(frequency) * (float(i)/float(reservoir_size)), query) for query, frequency in freq.items()], reverse=True)[:5]\n",
    "for frequency, query in by_freq:\n",
    "    print(\"%s %.1f%%\" % (query, float(frequency)*100/float(i)))\n"
   ]
  },
  {
   "cell_type": "markdown",
   "metadata": {},
   "source": [
    "# 2. Determine approximately the number of users\n",
    "\n",
    "In this sample there are exactly 1000 users. We will estimate the number of distinct users without creating a hash table with users, but instead, we will use the Flajolet-Martin probabilistic counting method."
   ]
  },
  {
   "cell_type": "markdown",
   "metadata": {},
   "source": [
    "Use this function to count trailing zeroes in the binary representation of a number."
   ]
  },
  {
   "cell_type": "code",
   "execution_count": 6,
   "metadata": {},
   "outputs": [],
   "source": [
    "def count_trailing_zeroes(number):\n",
    "    count = 0\n",
    "    while number & 1 == 0:\n",
    "        count += 1\n",
    "        number = number >> 1\n",
    "    return count"
   ]
  },
  {
   "cell_type": "markdown",
   "metadata": {},
   "source": [
    "Use this function to generate a random hash function. Note this generates a function, so you can do `hash_function = random_hash_function()` and then call `hash_function(x)` to compute the hash value of `x`."
   ]
  },
  {
   "cell_type": "code",
   "execution_count": 7,
   "metadata": {},
   "outputs": [],
   "source": [
    "def random_hash_function():\n",
    "    salt = random.random()\n",
    "    return lambda string: hash(string + str(salt))"
   ]
  },
  {
   "cell_type": "markdown",
   "metadata": {},
   "source": [
    "[**CODE**] Perform 10 passes over the file. In each pass, create a new hash function and use it to hash userids. Keep the maximum number of trailing zeroes seen in the hash value of a userid. "
   ]
  },
  {
   "cell_type": "code",
   "execution_count": 8,
   "metadata": {},
   "outputs": [
    {
     "name": "stdout",
     "output_type": "stream",
     "text": [
      "Estimate on pass 1: 512\n",
      "Estimate on pass 2: 512\n",
      "Estimate on pass 3: 256\n",
      "Estimate on pass 4: 8192\n",
      "Estimate on pass 5: 8192\n",
      "Estimate on pass 6: 1024\n",
      "Estimate on pass 7: 128\n",
      "Estimate on pass 8: 4096\n",
      "Estimate on pass 9: 1024\n",
      "Estimate on pass 10: 1024\n",
      "* Average of estimates: 2496.0\n",
      "* Median  of estimates: 1024.0\n"
     ]
    }
   ],
   "source": [
    "number_of_passes = 10\n",
    "\n",
    "estimates = []\n",
    "\n",
    "for i in range(number_of_passes):\n",
    "    # YOUR_CODE_HERE\n",
    "    estimates.append(estimate)\n",
    "    print(\"Estimate on pass %d: %d\" % (i+1, estimate))\n",
    "    \n",
    "print(\"* Average of estimates: %.1f\" % statistics.mean(estimates))\n",
    "print(\"* Median  of estimates: %.1f\" % statistics.median(estimates))"
   ]
  },
  {
   "cell_type": "markdown",
   "metadata": {},
   "source": [
    "[**REPORT**] Include in your report the median of estimates obtained in 3 separate runs of your algorithm; each run should do 10 passes over the file. Indicate why the median of estimates is preferable to the average of estimates."
   ]
  },
  {
   "cell_type": "markdown",
   "metadata": {},
   "source": [
    "# 3. Deliver\n",
    "\n",
    "Deliver:\n",
    "\n",
    "* A zip file containing your notebook (.ipynb file) with all the [**CODE**] parts implemented.\n",
    "* A 2-pages PDF report including all parts of this notebook marked with \"[**REPORT**]\""
   ]
  }
 ],
 "metadata": {
  "kernelspec": {
   "display_name": "Python 3",
   "language": "python",
   "name": "python3"
  },
  "language_info": {
   "codemirror_mode": {
    "name": "ipython",
    "version": 3
   },
   "file_extension": ".py",
   "mimetype": "text/x-python",
   "name": "python",
   "nbconvert_exporter": "python",
   "pygments_lexer": "ipython3",
   "version": "3.6.8"
  }
 },
 "nbformat": 4,
 "nbformat_minor": 2
}
