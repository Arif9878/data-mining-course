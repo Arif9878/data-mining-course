{
 "cells": [
  {
   "cell_type": "markdown",
   "metadata": {},
   "source": [
    "# Practice Session 04: Basket analysis"
   ]
  },
  {
   "cell_type": "markdown",
   "metadata": {},
   "source": [
    "Association rule mining techniques are useful to find common patterns of items in large data sets. One specific application called **market basket analysis** is useful for online shops because if we know that item A and B are bought together frequently, we can design new actions to increase the profit as:\n",
    "\n",
    "- A and B can be placed together so that when a customer buys one of the product he doesn't have to go far away to buy the other product.\n",
    "- People who buy one of the products can be targeted through an advertisement campaign to buy the other.\n",
    "- Collective discounts can be offered on these products if the customer buys both of them.\n",
    "- Both A and B can be packaged together."
   ]
  },
  {
   "cell_type": "markdown",
   "metadata": {},
   "source": [
    "# 0. Preliminaries"
   ]
  },
  {
   "cell_type": "markdown",
   "metadata": {},
   "source": [
    "## 0.1. Dataset"
   ]
  },
  {
   "cell_type": "markdown",
   "metadata": {},
   "source": [
    "In this practice we are using a dataset contained in `dataset_associationrules.csv` with 1000 customers that purchased up to 8 different services from a portfolio of a Big Internet Player. The portfolio includes:\n",
    "\n",
    "- Web hosting\n",
    "- Office suite that includes email, Office tools as docs, excels and presentation\n",
    "- Security solutions to protect cyber-attacks\n",
    "- Cloud sub-product: infrastructure as a service\n",
    "- Cloud sub-product: platform as a service\n",
    "- Content Management as Wordpress, Joomla!, Drupal, etc....\n",
    "- Chatbot for customer care\n",
    "- Advertising\n",
    "\n",
    "Each record (row) corresponds to a company and each column represents one of the products from the portfolio and can take the value 1 if the product was purchased or 0 if it was not."
   ]
  },
  {
   "cell_type": "markdown",
   "metadata": {},
   "source": [
    "## 0.2. Imports"
   ]
  },
  {
   "cell_type": "code",
   "execution_count": 17,
   "metadata": {},
   "outputs": [],
   "source": [
    "import numpy as np  \n",
    "import matplotlib.pyplot as plt  \n",
    "import pandas as pd  \n",
    "from apyori import apriori"
   ]
  },
  {
   "cell_type": "markdown",
   "metadata": {},
   "source": [
    "## 0.3. Load the data"
   ]
  },
  {
   "cell_type": "markdown",
   "metadata": {},
   "source": [
    "Open the csv with separator \",\" and assign to a dataframe variable (use read_csv from Pandas library)"
   ]
  },
  {
   "cell_type": "code",
   "execution_count": 18,
   "metadata": {},
   "outputs": [
    {
     "data": {
      "text/html": [
       "<div>\n",
       "<style scoped>\n",
       "    .dataframe tbody tr th:only-of-type {\n",
       "        vertical-align: middle;\n",
       "    }\n",
       "\n",
       "    .dataframe tbody tr th {\n",
       "        vertical-align: top;\n",
       "    }\n",
       "\n",
       "    .dataframe thead th {\n",
       "        text-align: right;\n",
       "    }\n",
       "</style>\n",
       "<table border=\"1\" class=\"dataframe\">\n",
       "  <thead>\n",
       "    <tr style=\"text-align: right;\">\n",
       "      <th></th>\n",
       "      <th>ID_customer</th>\n",
       "      <th>WEBHOSTING</th>\n",
       "      <th>OFFICESUITE</th>\n",
       "      <th>SECURITY</th>\n",
       "      <th>CLOUD_IAAS</th>\n",
       "      <th>CLOUD_PAAS</th>\n",
       "      <th>CONTENTMGM</th>\n",
       "      <th>CHATBOT</th>\n",
       "      <th>ADVERTISING</th>\n",
       "    </tr>\n",
       "  </thead>\n",
       "  <tbody>\n",
       "    <tr>\n",
       "      <th>0</th>\n",
       "      <td>0</td>\n",
       "      <td>0</td>\n",
       "      <td>0</td>\n",
       "      <td>1</td>\n",
       "      <td>0</td>\n",
       "      <td>0</td>\n",
       "      <td>0</td>\n",
       "      <td>0</td>\n",
       "      <td>0</td>\n",
       "    </tr>\n",
       "    <tr>\n",
       "      <th>1</th>\n",
       "      <td>1</td>\n",
       "      <td>0</td>\n",
       "      <td>1</td>\n",
       "      <td>1</td>\n",
       "      <td>0</td>\n",
       "      <td>0</td>\n",
       "      <td>0</td>\n",
       "      <td>0</td>\n",
       "      <td>0</td>\n",
       "    </tr>\n",
       "    <tr>\n",
       "      <th>2</th>\n",
       "      <td>2</td>\n",
       "      <td>1</td>\n",
       "      <td>0</td>\n",
       "      <td>1</td>\n",
       "      <td>0</td>\n",
       "      <td>0</td>\n",
       "      <td>1</td>\n",
       "      <td>0</td>\n",
       "      <td>0</td>\n",
       "    </tr>\n",
       "    <tr>\n",
       "      <th>3</th>\n",
       "      <td>3</td>\n",
       "      <td>0</td>\n",
       "      <td>0</td>\n",
       "      <td>1</td>\n",
       "      <td>0</td>\n",
       "      <td>0</td>\n",
       "      <td>0</td>\n",
       "      <td>0</td>\n",
       "      <td>0</td>\n",
       "    </tr>\n",
       "    <tr>\n",
       "      <th>4</th>\n",
       "      <td>4</td>\n",
       "      <td>1</td>\n",
       "      <td>1</td>\n",
       "      <td>1</td>\n",
       "      <td>0</td>\n",
       "      <td>0</td>\n",
       "      <td>1</td>\n",
       "      <td>0</td>\n",
       "      <td>0</td>\n",
       "    </tr>\n",
       "  </tbody>\n",
       "</table>\n",
       "</div>"
      ],
      "text/plain": [
       "   ID_customer  WEBHOSTING  OFFICESUITE  SECURITY  CLOUD_IAAS  CLOUD_PAAS  \\\n",
       "0            0           0            0         1           0           0   \n",
       "1            1           0            1         1           0           0   \n",
       "2            2           1            0         1           0           0   \n",
       "3            3           0            0         1           0           0   \n",
       "4            4           1            1         1           0           0   \n",
       "\n",
       "   CONTENTMGM  CHATBOT  ADVERTISING  \n",
       "0           0        0            0  \n",
       "1           0        0            0  \n",
       "2           1        0            0  \n",
       "3           0        0            0  \n",
       "4           1        0            0  "
      ]
     },
     "execution_count": 18,
     "metadata": {},
     "output_type": "execute_result"
    }
   ],
   "source": [
    "dataset=pd.read_csv(\"dataset_associationrules.csv\", sep=\",\")\n",
    "dataset.head()"
   ]
  },
  {
   "cell_type": "markdown",
   "metadata": {},
   "source": [
    "## 0.4. The Apriori Algorithm in a nutshell\n",
    "There are three major components of Apriori algorithm:\n",
    "\n",
    "- Support: refers to the default popularity of an item and can be calculated by finding number of transactions containing a particular item divided by total number of transactions. Suppose we want to find support for item A. This can be calculated as:<br>\n",
    "\n",
    "\n",
    "<center> **Support(A) = (Transactions containing (A))/(Total Transactions)** </center>\n",
    "\n",
    "- Confidence: refers to the likelihood that an item B is also bought if item A is bought. It can be calculated by finding the number of transactions where A and B are bought together, divided by total number of transactions where A is bought. Mathematically, it can be represented as:<br>\n",
    "\n",
    "<center>**Confidence(A→B) = (Transactions containing both (A and B))/(Transactions containing A)**</center>\n",
    "\n",
    "\n",
    "- Lift: Lift(A -> B) refers to the increase in the ratio of sale of B when A is sold. Lift(A –> B) can be calculated by dividing Confidence(A -> B) divided by Support(B). Mathematically it can be represented as:<br>\n",
    "\n",
    "<center>**Lift(A→B) = (Confidence (A→B))/(Support (B))**</center>\n",
    "\n",
    "<UL> A Lift of 1 means there is no association between products A and B. Lift of greater than 1 means products A and B are more likely to be bought together. Finally, Lift of less than 1 refers to the case where two products are unlikely to be bought together.</UL>"
   ]
  },
  {
   "cell_type": "markdown",
   "metadata": {},
   "source": [
    "# 1. Apriori algorithm"
   ]
  },
  {
   "cell_type": "markdown",
   "metadata": {},
   "source": [
    "## 1.1. Exploratory data analysis"
   ]
  },
  {
   "cell_type": "markdown",
   "metadata": {},
   "source": [
    "[**REPORT**] Print the head with the first 5 records"
   ]
  },
  {
   "cell_type": "markdown",
   "metadata": {},
   "source": [
    "[**REPORT**] Evaluate the dimension of the dataset and the type of the given variables (float, string, integer, etc.)."
   ]
  },
  {
   "cell_type": "markdown",
   "metadata": {},
   "source": [
    "Different statistical algorithms have been developed to implement association rule mining where Apriori is one such algorithm. In this practice we will focus on Apriori algorithm  will later apply to our dataset."
   ]
  },
  {
   "cell_type": "markdown",
   "metadata": {},
   "source": [
    "Now we will use one existing Apriori algorithm from [apyori library](https://pypi.org/project/apyori/) to find out which products are commonly sold together."
   ]
  },
  {
   "cell_type": "markdown",
   "metadata": {},
   "source": [
    "*Note: In case of this apriori library is not already installed in your laptop, you can install it with: `pip install apyori`*"
   ]
  },
  {
   "cell_type": "markdown",
   "metadata": {},
   "source": [
    "## 1.2. Data preparation"
   ]
  },
  {
   "cell_type": "markdown",
   "metadata": {},
   "source": [
    "The **Apriori** library we are going to use requires our dataset to be in the form of a list of lists where each element is a product sold.\n",
    "However, our dataset is in the form of a pandas dataframe where each row represents a customer and each column takes value 1 if it was sold to the customer or 0 if it wasn't. Therefore, we need to 1st) replace \"1\"s by the name of the product and 2nd) to convert the dataframe into a list of lists."
   ]
  },
  {
   "cell_type": "markdown",
   "metadata": {},
   "source": [
    "[**CODE**] Replace \"1\"s by product names"
   ]
  },
  {
   "cell_type": "markdown",
   "metadata": {},
   "source": [
    "[**CODE**] Besides, the **Apriori** algorithm does not need the **customer_ID** variable. Remove the column with **customer_ID**"
   ]
  },
  {
   "cell_type": "markdown",
   "metadata": {},
   "source": [
    "At this point, your dataset should look like this:"
   ]
  },
  {
   "cell_type": "code",
   "execution_count": 23,
   "metadata": {},
   "outputs": [
    {
     "data": {
      "text/html": [
       "<div>\n",
       "<style scoped>\n",
       "    .dataframe tbody tr th:only-of-type {\n",
       "        vertical-align: middle;\n",
       "    }\n",
       "\n",
       "    .dataframe tbody tr th {\n",
       "        vertical-align: top;\n",
       "    }\n",
       "\n",
       "    .dataframe thead th {\n",
       "        text-align: right;\n",
       "    }\n",
       "</style>\n",
       "<table border=\"1\" class=\"dataframe\">\n",
       "  <thead>\n",
       "    <tr style=\"text-align: right;\">\n",
       "      <th></th>\n",
       "      <th>WEBHOSTING</th>\n",
       "      <th>OFFICESUITE</th>\n",
       "      <th>SECURITY</th>\n",
       "      <th>CLOUD_IAAS</th>\n",
       "      <th>CLOUD_PAAS</th>\n",
       "      <th>CONTENTMGM</th>\n",
       "      <th>CHATBOT</th>\n",
       "      <th>ADVERTISING</th>\n",
       "    </tr>\n",
       "  </thead>\n",
       "  <tbody>\n",
       "    <tr>\n",
       "      <th>0</th>\n",
       "      <td>0</td>\n",
       "      <td>0</td>\n",
       "      <td>SECURITY</td>\n",
       "      <td>0</td>\n",
       "      <td>0</td>\n",
       "      <td>0</td>\n",
       "      <td>0</td>\n",
       "      <td>0</td>\n",
       "    </tr>\n",
       "    <tr>\n",
       "      <th>1</th>\n",
       "      <td>0</td>\n",
       "      <td>OFFICESUITE</td>\n",
       "      <td>SECURITY</td>\n",
       "      <td>0</td>\n",
       "      <td>0</td>\n",
       "      <td>0</td>\n",
       "      <td>0</td>\n",
       "      <td>0</td>\n",
       "    </tr>\n",
       "    <tr>\n",
       "      <th>2</th>\n",
       "      <td>WEBHOSTING</td>\n",
       "      <td>0</td>\n",
       "      <td>SECURITY</td>\n",
       "      <td>0</td>\n",
       "      <td>0</td>\n",
       "      <td>CONTENTMGM</td>\n",
       "      <td>0</td>\n",
       "      <td>0</td>\n",
       "    </tr>\n",
       "    <tr>\n",
       "      <th>3</th>\n",
       "      <td>0</td>\n",
       "      <td>0</td>\n",
       "      <td>SECURITY</td>\n",
       "      <td>0</td>\n",
       "      <td>0</td>\n",
       "      <td>0</td>\n",
       "      <td>0</td>\n",
       "      <td>0</td>\n",
       "    </tr>\n",
       "    <tr>\n",
       "      <th>4</th>\n",
       "      <td>WEBHOSTING</td>\n",
       "      <td>OFFICESUITE</td>\n",
       "      <td>SECURITY</td>\n",
       "      <td>0</td>\n",
       "      <td>0</td>\n",
       "      <td>CONTENTMGM</td>\n",
       "      <td>0</td>\n",
       "      <td>0</td>\n",
       "    </tr>\n",
       "  </tbody>\n",
       "</table>\n",
       "</div>"
      ],
      "text/plain": [
       "   WEBHOSTING  OFFICESUITE  SECURITY CLOUD_IAAS CLOUD_PAAS  CONTENTMGM  \\\n",
       "0           0            0  SECURITY          0          0           0   \n",
       "1           0  OFFICESUITE  SECURITY          0          0           0   \n",
       "2  WEBHOSTING            0  SECURITY          0          0  CONTENTMGM   \n",
       "3           0            0  SECURITY          0          0           0   \n",
       "4  WEBHOSTING  OFFICESUITE  SECURITY          0          0  CONTENTMGM   \n",
       "\n",
       "   CHATBOT ADVERTISING  \n",
       "0        0           0  \n",
       "1        0           0  \n",
       "2        0           0  \n",
       "3        0           0  \n",
       "4        0           0  "
      ]
     },
     "execution_count": 23,
     "metadata": {},
     "output_type": "execute_result"
    }
   ],
   "source": [
    "dataset.head()"
   ]
  },
  {
   "cell_type": "markdown",
   "metadata": {},
   "source": [
    "[**CODE**] Convert the dataframe into a list of lists and store it in a `records` array"
   ]
  },
  {
   "cell_type": "markdown",
   "metadata": {},
   "source": [
    "[**CODE**] Remove all `0`, remove all empty transactions, and store in the `records_final` array"
   ]
  },
  {
   "cell_type": "markdown",
   "metadata": {},
   "source": [
    "Now, everything is ready to execute the `Apriori` function."
   ]
  },
  {
   "cell_type": "markdown",
   "metadata": {},
   "source": [
    "## 1.3. Algorithm execution and evaluation"
   ]
  },
  {
   "cell_type": "markdown",
   "metadata": {},
   "source": [
    "[**REPORT**] Execute the apriori algorithm using [apyori.apriori](https://pypi.org/project/apyori/) **3 times** with different values of minimum values for support, confidence, lift and length. **Remember to set the \"lift\" parameter to a value strictly greater than 1.0.** For each iteration:\n",
    "- Indicate the number of association rules\n",
    "- Create a table with the main relevant association rules and justify the results. Explain their characteristics, i.e. support, confidence and lift\n",
    "\n",
    "The function `association_result_list` will facilitate the visualization of association rules results"
   ]
  },
  {
   "cell_type": "code",
   "execution_count": 26,
   "metadata": {},
   "outputs": [],
   "source": [
    "def association_result_list (association_results):\n",
    "    for item in association_results:\n",
    "        # first index of the inner list\n",
    "        # Contains base item and add item\n",
    "        item_origin=[]\n",
    "        item_origin.append([x for x in item[2][0][0]])\n",
    "        item_destin=[]\n",
    "        item_destin.append([x for x in item[2][0][1]])\n",
    "        print(\"Rule: \" +str(item_origin) +\" -> \" + str(item_destin))\n",
    "        #second index of the inner list\n",
    "        print(\"Support: \" + str(item[1]))\n",
    "        #third index of the list located at 0th\n",
    "        #of the third index of the inner list\n",
    "        print(\"Confidence: \" + str(item[2][0][2]))\n",
    "        print(\"Lift: \" + str(item[2][0][3]))\n",
    "        print(\"=====================================\")\n",
    "    return"
   ]
  },
  {
   "cell_type": "markdown",
   "metadata": {},
   "source": [
    "Your output should look similar to this one, but numbers may vary depending on the lift and confidence parameters that you provide."
   ]
  },
  {
   "cell_type": "code",
   "execution_count": 30,
   "metadata": {},
   "outputs": [
    {
     "name": "stdout",
     "output_type": "stream",
     "text": [
      "Rule: [['CLOUD_IAAS']] -> [['OFFICESUITE']]\n",
      "Support: 0.03\n",
      "Confidence: 0.4477611940298507\n",
      "Lift: 2.5440976933514245\n",
      "=====================================\n",
      "Rule: [['CLOUD_PAAS']] -> [['OFFICESUITE']]\n",
      "Support: 0.005\n",
      "Confidence: 0.8333333333333334\n",
      "Lift: 4.734848484848485\n",
      "=====================================\n",
      "Rule: [['CONTENTMGM']] -> [['OFFICESUITE']]\n",
      "Support: 0.044\n",
      "Confidence: 0.2894736842105263\n",
      "Lift: 1.6447368421052633\n",
      "=====================================\n",
      "Rule: [['CONTENTMGM']] -> [['SECURITY']]\n",
      "Support: 0.138\n",
      "Confidence: 0.9078947368421053\n",
      "Lift: 1.4932479224376733\n",
      "=====================================\n",
      "Rule: [['CONTENTMGM']] -> [['WEBHOSTING']]\n",
      "Support: 0.055\n",
      "Confidence: 0.3618421052631579\n",
      "Lift: 1.3205916250480214\n",
      "=====================================\n",
      "Rule: [['CLOUD_IAAS', 'CONTENTMGM']] -> [['OFFICESUITE']]\n",
      "Support: 0.009\n",
      "Confidence: 0.8181818181818181\n",
      "Lift: 4.648760330578512\n",
      "=====================================\n",
      "Rule: [['CLOUD_IAAS', 'OFFICESUITE']] -> [['SECURITY']]\n",
      "Support: 0.023\n",
      "Confidence: 0.7666666666666667\n",
      "Lift: 1.2609649122807018\n",
      "=====================================\n",
      "Rule: [['CLOUD_IAAS', 'WEBHOSTING']] -> [['OFFICESUITE']]\n",
      "Support: 0.008\n",
      "Confidence: 0.4444444444444445\n",
      "Lift: 2.5252525252525255\n",
      "=====================================\n",
      "Rule: [['CLOUD_IAAS', 'WEBHOSTING']] -> [['SECURITY']]\n",
      "Support: 0.015\n",
      "Confidence: 0.8333333333333334\n",
      "Lift: 1.3706140350877194\n",
      "=====================================\n",
      "Rule: [['OFFICESUITE', 'CONTENTMGM']] -> [['SECURITY']]\n",
      "Support: 0.036\n",
      "Confidence: 0.8181818181818181\n",
      "Lift: 1.345693779904306\n",
      "=====================================\n",
      "Rule: [['OFFICESUITE', 'CONTENTMGM']] -> [['WEBHOSTING']]\n",
      "Support: 0.015\n",
      "Confidence: 0.34090909090909094\n",
      "Lift: 1.2441937624419377\n",
      "=====================================\n",
      "Rule: [['CONTENTMGM', 'SECURITY']] -> [['WEBHOSTING']]\n",
      "Support: 0.051\n",
      "Confidence: 0.36956521739130427\n",
      "Lift: 1.3487781656616944\n",
      "=====================================\n",
      "Rule: [['CLOUD_IAAS', 'CONTENTMGM', 'SECURITY']] -> [['OFFICESUITE']]\n",
      "Support: 0.006\n",
      "Confidence: 0.75\n",
      "Lift: 4.261363636363637\n",
      "=====================================\n",
      "Rule: [['CLOUD_IAAS', 'OFFICESUITE', 'WEBHOSTING']] -> [['SECURITY']]\n",
      "Support: 0.006\n",
      "Confidence: 0.75\n",
      "Lift: 1.2335526315789473\n",
      "=====================================\n",
      "Rule: [['OFFICESUITE', 'CONTENTMGM', 'SECURITY']] -> [['WEBHOSTING']]\n",
      "Support: 0.013\n",
      "Confidence: 0.3611111111111111\n",
      "Lift: 1.3179237631792375\n",
      "=====================================\n"
     ]
    }
   ],
   "source": [
    "association_result_list(association_results)"
   ]
  },
  {
   "cell_type": "markdown",
   "metadata": {},
   "source": [
    "[**REPORT**] Considering the previous results:\n",
    "\n",
    "- As Data Scientist, which is your main recommendation to increase sales to the Big Internet Player? Explain why\n",
    "- When a customer purchases **CLOUD_PAAS**, which is the product that uses to buy too? Why?\n",
    "- Describe the type of customer that purchases **OFFICESUITE** product\n",
    "- Indicate two products that do **NOT** use to appear together. Why? "
   ]
  },
  {
   "cell_type": "markdown",
   "metadata": {},
   "source": [
    "# 2. Deliver"
   ]
  },
  {
   "cell_type": "markdown",
   "metadata": {},
   "source": [
    "Deliver:\n",
    "\n",
    "* A zip file containing your notebook (.ipynb file) with all the [**CODE**] parts implemented.\n",
    "* A PDF report of a maximum of 2 pages including all parts of this notebook marked with \"[**REPORT**]\"\n",
    "\n",
    "The report should end with the following statement: **I hereby declare that, except for the code provided by the course instructors, all of my code, report, and figures were produced by myself.**"
   ]
  }
 ],
 "metadata": {
  "kernelspec": {
   "display_name": "Python 3",
   "language": "python",
   "name": "python3"
  },
  "language_info": {
   "codemirror_mode": {
    "name": "ipython",
    "version": 3
   },
   "file_extension": ".py",
   "mimetype": "text/x-python",
   "name": "python",
   "nbconvert_exporter": "python",
   "pygments_lexer": "ipython3",
   "version": "3.6.8"
  }
 },
 "nbformat": 4,
 "nbformat_minor": 2
}
